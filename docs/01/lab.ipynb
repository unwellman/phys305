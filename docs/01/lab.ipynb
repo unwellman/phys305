{
 "cells": [
  {
   "cell_type": "markdown",
   "id": "0",
   "metadata": {},
   "source": [
    "# Git, Jupyter, and Python"
   ]
  },
  {
   "cell_type": "markdown",
   "id": "1",
   "metadata": {},
   "source": [
    "## Obtain Lecture Notes and Labs\n",
    "\n",
    "Software development, including designing and implementing algorithms in computational physics, is an interactive process.\n",
    "It requires constant writing and refactoring of code.\n",
    "Keeping good track of different versions of software helps us:\n",
    "* understand why the software is implemented in certain ways;\n",
    "* identify when bugs are introduced; and\n",
    "* enable multiple people to collaborate on software projects.\n",
    "\n",
    "[`Git`](https://git-scm.com/) is a version control system originally developed by Linus Torvalds, who is also the creator and lead developer of Linux.\n",
    "\n",
    "[`GitHub`](https://github.com/) is a Software-as-a-Service (SaaS) platform for hosting `git` repositories online."
   ]
  },
  {
   "cell_type": "markdown",
   "id": "2",
   "metadata": {},
   "source": [
    "### Sign up for GitHub accounts\n",
    "\n",
    "Please sign up an account on GitHub: https://github.com/\n",
    "\n",
    "You will use this account to submit your homework assignments and projects throughout the course.\n",
    "\n",
    "Once you have created your account, please add your GitHub username to the following [Google Spreadsheet](https://docs.google.com/spreadsheets/d/15XDjkFgPSS-q2oaLjOSxSchomAg6umhz1l0xLCEXW3c/edit?usp=sharing)."
   ]
  },
  {
   "cell_type": "markdown",
   "id": "3",
   "metadata": {},
   "source": [
    "### Fork the Course Git Repository\n",
    "\n",
    "All the lecture notes and hands-on labs are version controlled in this `git` repository:\n",
    "\n",
    "https://github.com/ua-2025q1-phys305/ua-2025q1-phys305.github.io\n",
    "\n",
    "Please fork it to your own account.\n",
    "You may rename it to a shorter name, e.g., just `phys305`."
   ]
  },
  {
   "cell_type": "markdown",
   "id": "4",
   "metadata": {
    "slideshow": {
     "slide_type": "fragment"
    }
   },
   "source": [
    "### `GitHub` Codespace\n",
    "\n",
    "There are many ways to run the hands-on codes.\n",
    "The standard way is to clone the course `git` repository from `GitHub` to your own computer.\n",
    "However, this requires installing software, setting up a development environment, etc, and may delay our progress.\n",
    "\n",
    "Instead, we will start with `GitHub` Codespace for a uniform development envirnment."
   ]
  },
  {
   "cell_type": "markdown",
   "id": "5",
   "metadata": {},
   "source": [
    "Click the green \"Code\" button in your fork, select the \"Codespace\" Tab, and then click the green \"Create codespace on main\" button.\n",
    "\n",
    "![codespace](figures/codespace1.png)"
   ]
  },
  {
   "cell_type": "markdown",
   "id": "6",
   "metadata": {},
   "source": [
    "This would create a webapp version of Microsoft's VSCode.\n",
    "Navigate to `docs/01/labs.ipynb` in the \"EXPLORER\" on the left, you may now open this Lab notebook in VSCode.\n",
    "\n",
    "![codespace](figures/codespace2.png)"
   ]
  },
  {
   "cell_type": "markdown",
   "id": "7",
   "metadata": {},
   "source": [
    "## Jupyter\n",
    "\n",
    "This lab is written in a [Jupyter Notebook](https://jupyter.org/).\n",
    "It allows (data) scientists to mix codes with documentation and plots, and is very handy in exploring data.\n",
    "It is also very popular in learning code development.\n",
    "\n",
    "Instead of viewing (and running) Jupyter Notebooks in VSCode, it is also possible to run it natively in Jupyter's Integrated Development Environment (IDE) [Jupyter Lab](https://jupyterlab.readthedocs.io/en/latest/).\n",
    "\n",
    "This turns out to be very easy to do with `GitHub`."
   ]
  },
  {
   "cell_type": "markdown",
   "id": "8",
   "metadata": {},
   "source": [
    "As long as you have an existing `GitHub` codespace, you can navigate to \"Code\"->\"Codespaces\"->On current branch\".  Click the \"...\" and then \"Open in Jupyter Lab (Preview)\".\n",
    "\n",
    "![jupyterlab](figures/jupyterlab1.png)"
   ]
  },
  {
   "cell_type": "markdown",
   "id": "9",
   "metadata": {},
   "source": [
    "This will open your codespace in Jupyter Lab.\n",
    "Navigate again to `docs/01/lab.ipynb` on the left, you can now open this lab in Jupyter Lab:\n",
    "\n",
    "![jupyterlab](figures/jupyterlab2.png)"
   ]
  },
  {
   "cell_type": "markdown",
   "id": "10",
   "metadata": {},
   "source": [
    "### Markdown\n",
    "\n",
    "In a Jupyter notebook, there are mainly two types of cells.\n",
    "* By default, cells contain executable \"Code\".\n",
    "  Pressing \"Shift\"+\"Enter\" would run the code.\n",
    "* The cells that display documentation, such as this one, are \"Markdown\" cells.\n",
    "  Pressing \"Shift\"+\"Enter\" would render the documentation.\n",
    "\n",
    "Depending on which the Jupyter Lab Plugins you have, you may use [basic markdown](https://docs.github.com/en/get-started/writing-on-github/getting-started-with-writing-and-formatting-on-github/basic-writing-and-formatting-syntax) to write basic documentations or [MyST](https://myst-parser.readthedocs.io/en/v0.13.3/using/syntax.html) to create fancy scientific paper.\n",
    "\n",
    "Basic markdown syntax includes:\n",
    "```\n",
    "# A first-level heading\n",
    "## A second-level heading\n",
    "### A third-level heading\n",
    "\n",
    "**bold text** or __bold text__\n",
    "*italic* or _italic_\n",
    "\n",
    "> Text that is a quote\n",
    "\n",
    "[A link](URL)\n",
    "![An image](URL)\n",
    "```"
   ]
  },
  {
   "cell_type": "code",
   "execution_count": null,
   "id": "11",
   "metadata": {},
   "outputs": [],
   "source": [
    "## HANDSON: turn this cell into a markdown cell; write a short introduction about yourself and your research interest."
   ]
  },
  {
   "cell_type": "markdown",
   "id": "12",
   "metadata": {},
   "source": [
    "## Introduction to Python\n",
    "\n",
    "We will use the python programming language in the first half of PHYS 305.\n",
    "This hands-on lab will guide you through essential Python concepts and allow you to execute code cells directly to learn interactively."
   ]
  },
  {
   "cell_type": "markdown",
   "id": "13",
   "metadata": {},
   "source": [
    "## Why Python?\n",
    "\n",
    "+ **Easy to Learn**: Simple, pseudo-code-like syntax makes it beginner-friendly.\n",
    "+ **Widely Used**: Popular in academia, research, and industry.\n",
    "+ **Powerful Libraries**: Extensive libraries for numerical computation (`NumPy`, `SciPy`), data visualization (`Matplotlib`), and more."
   ]
  },
  {
   "cell_type": "markdown",
   "id": "14",
   "metadata": {},
   "source": [
    "## Getting Started\n",
    "Python code can be written and executed interactively in Jupyter notebooks.\n",
    "In fact, the name \"Jupyter\" comes from the three programming langauge Julia, Python, and R.\n",
    "Let's begin with the basics.\n",
    "\n",
    "### 1. Printing Output\n",
    "Use the `print()` function to display output."
   ]
  },
  {
   "cell_type": "code",
   "execution_count": null,
   "id": "15",
   "metadata": {},
   "outputs": [],
   "source": [
    "# Example: Print a message\n",
    "\n",
    "print(\"Hello, world! Welcome to PHYS 305!\")"
   ]
  },
  {
   "cell_type": "code",
   "execution_count": null,
   "id": "16",
   "metadata": {},
   "outputs": [],
   "source": [
    "# HANDSON: Change the message\n",
    "\n",
    "print(\"Your custom message here!\")"
   ]
  },
  {
   "cell_type": "markdown",
   "id": "17",
   "metadata": {},
   "source": [
    "### 2. Variables and Data Types\n",
    "\n",
    "Python supports various data types such as integers, floats, strings, and booleans."
   ]
  },
  {
   "cell_type": "code",
   "execution_count": null,
   "id": "18",
   "metadata": {},
   "outputs": [],
   "source": [
    "# Example: Variable assignment\n",
    "\n",
    "x       = 6         # Integer\n",
    "y       = 3.14      # Float\n",
    "phys    = \"Physics\" # String\n",
    "is_cool = True      # Boolean\n",
    "\n",
    "print(\"x =\", x)\n",
    "print(\"y =\", y)\n",
    "print(\"phys =\", phys)\n",
    "print(\"is_cool =\", is_cool)"
   ]
  },
  {
   "cell_type": "code",
   "execution_count": null,
   "id": "19",
   "metadata": {},
   "outputs": [],
   "source": [
    "# HANDSON: Define and print variables\n",
    "\n",
    "year       = ...\n",
    "height     = ...\n",
    "name       = ...\n",
    "is_student = ...\n",
    "\n",
    "print(\"Year:\", year)\n",
    "print(\"Height:\", height)\n",
    "print(\"Name:\", name)\n",
    "print(\"Is student:\", is_student)"
   ]
  },
  {
   "cell_type": "markdown",
   "id": "20",
   "metadata": {},
   "source": [
    "### 3. Basic Arithmetic\n",
    "\n",
    "Python can handle basic mathematical operations."
   ]
  },
  {
   "cell_type": "code",
   "execution_count": null,
   "id": "21",
   "metadata": {},
   "outputs": [],
   "source": [
    "# Examples of arithmetic\n",
    "\n",
    "addition       = 7 + 8\n",
    "subtraction    = 9 - 3\n",
    "multiplication = 15 * 6\n",
    "division       = 90 / 2\n",
    "power          = 45 ** 2\n",
    "\n",
    "print(\"Addition:\",       addition)\n",
    "print(\"Subtraction:\",    subtraction)\n",
    "print(\"Multiplication:\", multiplication)\n",
    "print(\"Division:\",       division)\n",
    "print(\"Power:\",          power)"
   ]
  },
  {
   "cell_type": "code",
   "execution_count": null,
   "id": "22",
   "metadata": {},
   "outputs": [],
   "source": [
    "# HANDSON: Arithmetic\n",
    "\n",
    "a = 3\n",
    "b = 6\n",
    "\n",
    "# Calculate and print\n",
    "sum_result = ...\n",
    "pro_result = ...\n",
    "div_result = ...\n",
    "mod_result = ... # Remainder\n",
    "\n",
    "print(\"Addition:\",       sum_result)\n",
    "print(\"Multiplication:\", pro_result)\n",
    "print(\"Division:\",       div_result)\n",
    "print(\"Remainder:\",      mod_result)"
   ]
  },
  {
   "cell_type": "markdown",
   "id": "23",
   "metadata": {},
   "source": [
    "### 4. Lists\n",
    "\n",
    "Lists are ordered collections of items."
   ]
  },
  {
   "cell_type": "code",
   "execution_count": null,
   "id": "24",
   "metadata": {},
   "outputs": [],
   "source": [
    "# Example: Creating a list\n",
    "numbers = [1, 2, 3, 4, 5]\n",
    "print(\"Original list:\", numbers)\n",
    "\n",
    "# Accessing elements\n",
    "print(\"First element:\", numbers[0])\n",
    "print(\"Last element:\", numbers[-1])\n",
    "\n",
    "# Adding elements\n",
    "numbers.append(6)\n",
    "print(\"List after appending:\", numbers)\n",
    "\n",
    "# Removing last elements\n",
    "numbers.pop()\n",
    "print(\"List after removing last element:\", numbers)\n",
    "\n",
    "# Removing specific elements\n",
    "numbers.remove(a) # note that `a` was defined above\n",
    "print(\"List after removing\", a, \":\", numbers)"
   ]
  },
  {
   "cell_type": "code",
   "execution_count": null,
   "id": "25",
   "metadata": {},
   "outputs": [],
   "source": [
    "# HANDSON: create your own list and manipulate it.\n",
    "\n",
    "# Create a list\n",
    "fruits = ...\n",
    "print(\"Fruits:\", fruits)\n",
    "\n",
    "# Add an element to the list\n",
    "...\n",
    "print(\"Fruits:\", fruits)\n",
    "\n",
    "# Remove an item\n",
    "...\n",
    "print(\"Fruits:\", fruits)"
   ]
  },
  {
   "cell_type": "markdown",
   "id": "26",
   "metadata": {},
   "source": [
    "### 5. For Loops\n",
    "\n",
    "Loops allow you to iterate over a sequence of items."
   ]
  },
  {
   "cell_type": "code",
   "execution_count": null,
   "id": "27",
   "metadata": {},
   "outputs": [],
   "source": [
    "# Example: Loop through a list\n",
    "\n",
    "for number in range(10):\n",
    "    print(\"Number:\", number)"
   ]
  },
  {
   "cell_type": "code",
   "execution_count": null,
   "id": "28",
   "metadata": {},
   "outputs": [],
   "source": [
    "### HANDSON: Write a loop to print squares of numbers.\n",
    "\n",
    "# Your turn: Print squares\n",
    "...\n",
    "    print(f\"Square of {i} is {i ** 2}\")"
   ]
  },
  {
   "cell_type": "markdown",
   "id": "29",
   "metadata": {},
   "source": [
    "### 6. Functions\n",
    "\n",
    "Functions allow you to reuse code."
   ]
  },
  {
   "cell_type": "code",
   "execution_count": null,
   "id": "30",
   "metadata": {},
   "outputs": [],
   "source": [
    "# Example: Define a function\n",
    "def greet(name):\n",
    "    return f\"Hello, {name}! Welcome to PHYS 305!\"\n",
    "\n",
    "# Call the function\n",
    "message = greet(name)\n",
    "print(message)"
   ]
  },
  {
   "cell_type": "code",
   "execution_count": null,
   "id": "31",
   "metadata": {},
   "outputs": [],
   "source": [
    "# HANDSON: Function to calculate circle area\n",
    "\n",
    "def circle_area(radius):\n",
    "    ...\n",
    "\n",
    "# Test the function\n",
    "area = circle_area(5)\n",
    "print(\"Area of circle with radius 5:\", area)"
   ]
  },
  {
   "cell_type": "markdown",
   "id": "32",
   "metadata": {},
   "source": [
    "### 7. NumPy: Numerical Computing\n",
    "\n",
    "Python's power comes from its libraries.\n",
    "For scientific computing, `numpy` and `matplotlib` are probably the two most important libraries.\n",
    "Let's explore their capabilities.\n",
    "\n",
    "NumPy provides support for large multi-dimensional arrays and matrices, along with mathematical functions to operate on them."
   ]
  },
  {
   "cell_type": "code",
   "execution_count": 2,
   "id": "33",
   "metadata": {},
   "outputs": [
    {
     "name": "stdout",
     "output_type": "stream",
     "text": [
      "Array: [1 2 3 4 5]\n",
      "Squared Array: [ 1  4  9 16 25]\n",
      "Linspace: [ 0.  1.  2.  3.  4.  5.  6.  7.  8.  9. 10.]\n"
     ]
    }
   ],
   "source": [
    "# Example: Using NumPy\n",
    "import numpy as np\n",
    "\n",
    "# Create an array\n",
    "array = np.array([1, 2, 3, 4, 5])\n",
    "print(\"Array:\", array)\n",
    "\n",
    "# Perform operations\n",
    "squared = array ** 2\n",
    "print(\"Squared Array:\", squared)\n",
    "\n",
    "# Generate a range of numbers\n",
    "linspace = np.linspace(0, 10, 11)\n",
    "print(\"Linspace:\", linspace)"
   ]
  },
  {
   "cell_type": "markdown",
   "id": "34",
   "metadata": {},
   "source": [
    "NumPy's core functions are written in C (see, e.g., [here](https://github.com/numpy/numpy/tree/1d45e65180954e78012d25bfb11dba36afef5df9/numpy/_core/src)).\n",
    "Using NumPy for large arrays is much faster than for loop in python."
   ]
  },
  {
   "cell_type": "code",
   "execution_count": 3,
   "id": "35",
   "metadata": {},
   "outputs": [
    {
     "name": "stdout",
     "output_type": "stream",
     "text": [
      "CPU times: user 16 μs, sys: 4 μs, total: 20 μs\n",
      "Wall time: 23.8 μs\n"
     ]
    }
   ],
   "source": [
    "array = np.arange(1000)"
   ]
  },
  {
   "cell_type": "code",
   "execution_count": null,
   "id": "36",
   "metadata": {},
   "outputs": [],
   "source": [
    "%%time\n",
    "\n",
    "squared = []\n",
    "for a in array:\n",
    "    squared.append(a*a)"
   ]
  },
  {
   "cell_type": "code",
<<<<<<< HEAD
   "execution_count": 4,
   "id": "36",
=======
   "execution_count": null,
   "id": "37",
>>>>>>> 1f54d20ed635ae4c9741825d6e7238c50132348d
   "metadata": {},
   "outputs": [
    {
     "name": "stdout",
     "output_type": "stream",
     "text": [
      "CPU times: user 2 μs, sys: 0 ns, total: 2 μs\n",
      "Wall time: 5.01 μs\n"
     ]
    }
   ],
   "source": [
    "%%time\n",
    "\n",
    "squared = array * array"
   ]
  },
  {
   "cell_type": "code",
<<<<<<< HEAD
   "execution_count": 8,
   "id": "37",
=======
   "execution_count": null,
   "id": "38",
>>>>>>> 1f54d20ed635ae4c9741825d6e7238c50132348d
   "metadata": {},
   "outputs": [
    {
     "name": "stdout",
     "output_type": "stream",
     "text": [
      "Numbers: [ 1  2  3  4  5  6  7  8  9 10]\n",
      "Squares: [  1   4   9  16  25  36  49  64  81 100]\n",
      "Square Roots: [1.         1.41421356 1.73205081 2.         2.23606798 2.44948974\n",
      " 2.64575131 2.82842712 3.         3.16227766]\n"
     ]
    }
   ],
   "source": [
    "# HANDSON: NumPy calculations\n",
    "\n",
    "# Create an array of numbers from 1 to 10\n",
    "numbers = np.array(range(1, 11))\n",
    "\n",
    "# Calculate their squares and square roots\n",
    "squares = numbers * numbers\n",
    "roots   = np.sqrt(numbers)\n",
    "\n",
    "print(\"Numbers:\", numbers)\n",
    "print(\"Squares:\", squares)\n",
    "print(\"Square Roots:\", roots)"
   ]
  },
  {
   "cell_type": "markdown",
   "id": "39",
   "metadata": {},
   "source": [
    "### 8. Matplotlib: Data Visualization\n",
    "\n",
    "Matplotlib is a plotting library for creating static, animated, and interactive visualizations."
   ]
  },
  {
   "cell_type": "code",
<<<<<<< HEAD
   "execution_count": 9,
   "id": "39",
=======
   "execution_count": null,
   "id": "40",
>>>>>>> 1f54d20ed635ae4c9741825d6e7238c50132348d
   "metadata": {},
   "outputs": [
    {
     "data": {
      "image/png": "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",
      "text/plain": [
       "<Figure size 640x480 with 1 Axes>"
      ]
     },
     "metadata": {},
     "output_type": "display_data"
    },
    {
     "data": {
      "text/plain": [
       "<Figure size 640x480 with 0 Axes>"
      ]
     },
     "metadata": {},
     "output_type": "display_data"
    }
   ],
   "source": [
    "# Example: Plotting with Matplotlib\n",
    "import matplotlib.pyplot as plt\n",
    "\n",
    "# Create data with NumPy\n",
    "x = np.linspace(0, 10, 100)\n",
    "y = np.sin(x)\n",
    "\n",
    "# Create a plot with Matplotlib\n",
    "plt.plot(x, y, label='sin(x)')\n",
    "plt.title(\"Sine Wave\")\n",
    "plt.xlabel(\"x\")\n",
    "plt.ylabel(\"sin(x)\")\n",
    "plt.legend()\n",
    "plt.grid()\n",
    "\n",
    "# Show and save figure\n",
    "plt.show() # optional in jupyter notebook\n",
    "plt.savefig('sin.pdf')"
   ]
  },
  {
   "cell_type": "code",
   "execution_count": null,
   "id": "41",
   "metadata": {},
   "outputs": [],
   "source": [
    "# HANDSON: Create a plot\n",
    "\n",
    "# Let's try to plot two curves in a single plot\n",
    "x  = np.linspace(0, 2 * np.pi, 100)\n",
    "y1 = np.sin(x)\n",
    "y2 = np.cos(x)\n",
    "\n",
    "# Plot both sine and cosine\n",
    "...\n",
    "...\n",
    "\n",
    "# Customize the plot\n",
    "...\n",
    "\n",
    "# Show and save figure\n",
    "..."
   ]
  },
  {
   "cell_type": "markdown",
   "id": "42",
   "metadata": {},
   "source": [
    "## Summary\n",
    "\n",
    "In this lab, you learned:\n",
    "\n",
    "+ The basic of Git and GitHub\n",
    "+ The basic of Jupyter Notebook and Jupyter Lab\n",
    "+ The basic of Python:\n",
    "  + How to print output\n",
    "  + Variables and data types\n",
    "  + Basic arithmetic operations\n",
    "  + Working with lists\n",
    "  + Using loops\n",
    "  + Writing functions\n",
    "  + Introduction to NumPy for numerical computations\n",
    "  + Introduction to Matplotlib for data visualization"
   ]
  }
 ],
 "metadata": {
  "kernelspec": {
   "display_name": "Python 3 (ipykernel)",
   "language": "python",
   "name": "python3"
  },
  "language_info": {
   "codemirror_mode": {
    "name": "ipython",
    "version": 3
   },
   "file_extension": ".py",
   "mimetype": "text/x-python",
   "name": "python",
   "nbconvert_exporter": "python",
   "pygments_lexer": "ipython3",
   "version": "3.12.4"
  }
 },
 "nbformat": 4,
 "nbformat_minor": 5
}
